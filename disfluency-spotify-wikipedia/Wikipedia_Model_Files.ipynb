{
 "cells": [
  {
   "cell_type": "code",
   "execution_count": 1,
   "id": "5839d6f4-b48c-48c6-a874-a1645e3fc3bf",
   "metadata": {},
   "outputs": [],
   "source": [
    "import os\n",
    "\n",
    "import utils_general\n",
    "import utils_podcasts\n",
    "import utils_model_files"
   ]
  },
  {
   "cell_type": "code",
   "execution_count": 2,
   "id": "bcaab339-f9ce-4928-be84-46a1d6b85adf",
   "metadata": {},
   "outputs": [],
   "source": [
    "utils_model_files.get_model_files(dataset_name=\"wikipedia\", trfs=[\"repeats\", \"interjections\", \"false-starts\", \"all-3\"])"
   ]
  }
 ],
 "metadata": {
  "kernelspec": {
   "display_name": "Python 3 (ipykernel)",
   "language": "python",
   "name": "python3"
  },
  "language_info": {
   "codemirror_mode": {
    "name": "ipython",
    "version": 3
   },
   "file_extension": ".py",
   "mimetype": "text/x-python",
   "name": "python",
   "nbconvert_exporter": "python",
   "pygments_lexer": "ipython3",
   "version": "3.9.13"
  }
 },
 "nbformat": 4,
 "nbformat_minor": 5
}
