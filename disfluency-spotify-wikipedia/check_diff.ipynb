{
 "cells": [
  {
   "cell_type": "code",
   "execution_count": 1,
   "id": "016028ab-5179-42b8-820c-1d556620097c",
   "metadata": {},
   "outputs": [],
   "source": [
    "import os\n",
    "import difflib\n",
    "\n",
    "import utils_general\n",
    "\n",
    "current_input_dir = os.path.join(utils_general.PATH_TO_PROJECT, \"spotify\")\n",
    "    \n",
    "files_list = [file for file in os.listdir(current_input_dir) if file.endswith(\".txt\")]\n",
    "for file in files_list:\n",
    "\n",
    "    text1 = utils_general.read_file(os.path.join(current_input_dir, \"repeats\", \"0_\"+file))\n",
    "    # print(text1)\n",
    "    # print()\n",
    "\n",
    "    for t in [\"repeats\",\"interjections\",\"false-starts\",\"repeats-and-false-starts\",\"repeats-and-interjections\",\"interjections-and-false-starts\",\"all-3\"]:\n",
    "\n",
    "        current_trf_dir = os.path.join(current_input_dir, t)\n",
    "\n",
    "        text2 = utils_general.read_file(os.path.join(current_trf_dir, \"0_\"+file))\n",
    "        \n",
    "        for diff in difflib.unified_diff(text1.split(\" \"), text2.split(\" \")):\n",
    "            print(file, t, diff)\n",
    "\n",
    "        # print(t, text2)\n",
    "        # print()\n"
   ]
  },
  {
   "cell_type": "markdown",
   "id": "d9fb629d-1111-49c9-a83e-b0137f4f8d68",
   "metadata": {},
   "source": [
    "I wrote this test to make sure that all of the 0_ files were the same (after the r, i, fs, r+i, ..., r+i+fs transformations) before I factored them out."
   ]
  },
  {
   "cell_type": "code",
   "execution_count": null,
   "id": "6f911ca3-adce-4034-8392-59d264810b13",
   "metadata": {},
   "outputs": [],
   "source": []
  }
 ],
 "metadata": {
  "kernelspec": {
   "display_name": "Python 3 (ipykernel)",
   "language": "python",
   "name": "python3"
  },
  "language_info": {
   "codemirror_mode": {
    "name": "ipython",
    "version": 3
   },
   "file_extension": ".py",
   "mimetype": "text/x-python",
   "name": "python",
   "nbconvert_exporter": "python",
   "pygments_lexer": "ipython3",
   "version": "3.9.13"
  }
 },
 "nbformat": 4,
 "nbformat_minor": 5
}
