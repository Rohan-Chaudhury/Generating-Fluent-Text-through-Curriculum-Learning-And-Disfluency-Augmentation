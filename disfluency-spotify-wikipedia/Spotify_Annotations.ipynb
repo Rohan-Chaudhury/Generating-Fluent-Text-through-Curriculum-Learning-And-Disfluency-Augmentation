{
 "cells": [
  {
   "cell_type": "markdown",
   "id": "0f01b253-7899-4da8-aede-2e7db82c40f4",
   "metadata": {},
   "source": [
    "# Spotify_Annotations\n",
    "Converts the output from Jamshid Lou and Johnson's (2020) model to a repaired transcript."
   ]
  },
  {
   "cell_type": "code",
   "execution_count": 1,
   "id": "b6086340-541f-4b0e-9b6d-845aa7d51aa2",
   "metadata": {},
   "outputs": [],
   "source": [
    "import os\n",
    "\n",
    "import utils_general\n",
    "import utils_repair"
   ]
  },
  {
   "cell_type": "code",
   "execution_count": 2,
   "id": "b022a093-bd7a-4696-8630-7c0d802607d3",
   "metadata": {},
   "outputs": [],
   "source": [
    "annotated_dir = os.path.join(utils_general.PATH_TO_PROJECT, \"spotify\", \"annotated\")\n",
    "repaired_dir = os.path.join(utils_general.PATH_TO_PROJECT, \"spotify\", \"-1\")\n",
    "\n",
    "utils_general.create_and_or_clear_this_dir(repaired_dir)\n",
    "\n",
    "files_list = [f for f in os.listdir(annotated_dir) if (f.endswith(\"_dys.txt\") and not f.endswith(\"-checkpoint.txt\"))]\n",
    "for f in files_list:\n",
    "\n",
    "    transcript = utils_general.read_file(os.path.join(annotated_dir,f))\n",
    "\n",
    "    repaired_transcript = \"\"\n",
    "    repaired_transcript = utils_repair.get_repaired_transcript(transcript)\n",
    "    \n",
    "    utils_general.write_file(f.replace(\"_dys\",\"\"), repaired_dir, repaired_transcript)"
   ]
  },
  {
   "cell_type": "markdown",
   "id": "c21332eb-7272-4b5f-850d-f8efdb3cf532",
   "metadata": {},
   "source": [
    "# Test: Are the correct number of files in each directory?"
   ]
  },
  {
   "cell_type": "code",
   "execution_count": 3,
   "id": "bf7d715a-598e-49a2-9c94-ca7450a809ff",
   "metadata": {},
   "outputs": [
    {
     "name": "stdout",
     "output_type": "stream",
     "text": [
      "repeats-and-interjections        : 10200\n",
      "interjections-and-false-starts   : 10200\n",
      "annotated                        : 2\n",
      "0                                : 1021\n",
      "repeats-and-false-starts         : 10200\n",
      "false-starts                     : 10200\n",
      "1min                             : 1020\n",
      "all-3                            : 10200\n",
      "interjections                    : 10200\n",
      "-1                               : 1\n",
      "repeats                          : 10200\n"
     ]
    },
    {
     "ename": "FileNotFoundError",
     "evalue": "[Errno 2] No such file or directory: '/home/grads/m/mariateleki/Generating-Fluent-Text-through-Curriculum-Learning-And-Disfluency-Augmentation/disfluency-spotify-wikipedia/spotify/.ipynb_checkpoints'",
     "output_type": "error",
     "traceback": [
      "\u001b[0;31m---------------------------------------------------------------------------\u001b[0m",
      "\u001b[0;31mFileNotFoundError\u001b[0m                         Traceback (most recent call last)",
      "\u001b[0;32m/tmp/ipykernel_3639667/3025952741.py\u001b[0m in \u001b[0;36m<module>\u001b[0;34m\u001b[0m\n\u001b[1;32m      2\u001b[0m \u001b[0;32mfor\u001b[0m \u001b[0mroot\u001b[0m\u001b[0;34m,\u001b[0m \u001b[0mdirs\u001b[0m\u001b[0;34m,\u001b[0m \u001b[0mfiles\u001b[0m \u001b[0;32min\u001b[0m \u001b[0mos\u001b[0m\u001b[0;34m.\u001b[0m\u001b[0mwalk\u001b[0m\u001b[0;34m(\u001b[0m\u001b[0mspotify_path\u001b[0m\u001b[0;34m)\u001b[0m\u001b[0;34m:\u001b[0m\u001b[0;34m\u001b[0m\u001b[0;34m\u001b[0m\u001b[0m\n\u001b[1;32m      3\u001b[0m     \u001b[0;32mfor\u001b[0m \u001b[0md\u001b[0m \u001b[0;32min\u001b[0m \u001b[0mdirs\u001b[0m\u001b[0;34m:\u001b[0m\u001b[0;34m\u001b[0m\u001b[0;34m\u001b[0m\u001b[0m\n\u001b[0;32m----> 4\u001b[0;31m         \u001b[0ml\u001b[0m \u001b[0;34m=\u001b[0m \u001b[0mlen\u001b[0m\u001b[0;34m(\u001b[0m\u001b[0;34m[\u001b[0m\u001b[0mf\u001b[0m \u001b[0;32mfor\u001b[0m \u001b[0mf\u001b[0m \u001b[0;32min\u001b[0m \u001b[0mos\u001b[0m\u001b[0;34m.\u001b[0m\u001b[0mlistdir\u001b[0m\u001b[0;34m(\u001b[0m\u001b[0mos\u001b[0m\u001b[0;34m.\u001b[0m\u001b[0mpath\u001b[0m\u001b[0;34m.\u001b[0m\u001b[0mjoin\u001b[0m\u001b[0;34m(\u001b[0m\u001b[0mspotify_path\u001b[0m\u001b[0;34m,\u001b[0m\u001b[0md\u001b[0m\u001b[0;34m)\u001b[0m\u001b[0;34m)\u001b[0m \u001b[0;32mif\u001b[0m \u001b[0;32mnot\u001b[0m \u001b[0mf\u001b[0m\u001b[0;34m.\u001b[0m\u001b[0mendswith\u001b[0m\u001b[0;34m(\u001b[0m\u001b[0;34m\"-checkpoint.txt\"\u001b[0m\u001b[0;34m)\u001b[0m\u001b[0;34m]\u001b[0m\u001b[0;34m)\u001b[0m\u001b[0;34m\u001b[0m\u001b[0;34m\u001b[0m\u001b[0m\n\u001b[0m\u001b[1;32m      5\u001b[0m         \u001b[0mprint\u001b[0m\u001b[0;34m(\u001b[0m\u001b[0;34mf\"{d:33}: {l}\"\u001b[0m\u001b[0;34m)\u001b[0m\u001b[0;34m\u001b[0m\u001b[0;34m\u001b[0m\u001b[0m\n",
      "\u001b[0;31mFileNotFoundError\u001b[0m: [Errno 2] No such file or directory: '/home/grads/m/mariateleki/Generating-Fluent-Text-through-Curriculum-Learning-And-Disfluency-Augmentation/disfluency-spotify-wikipedia/spotify/.ipynb_checkpoints'"
     ]
    }
   ],
   "source": [
    "spotify_path = os.path.join(utils_general.PATH_TO_PROJECT,\"spotify\")\n",
    "for root, dirs, files in os.walk(spotify_path): \n",
    "    for d in dirs:\n",
    "        l = len([f for f in os.listdir(os.path.join(spotify_path,d)) if not f.endswith(\"-checkpoint.txt\")])\n",
    "        print(f\"{d:33}: {l}\")\n"
   ]
  },
  {
   "cell_type": "code",
   "execution_count": null,
   "id": "8b0bc0a5-cb85-484e-9ca2-b0276075776d",
   "metadata": {},
   "outputs": [],
   "source": []
  }
 ],
 "metadata": {
  "kernelspec": {
   "display_name": "Python 3 (ipykernel)",
   "language": "python",
   "name": "python3"
  },
  "language_info": {
   "codemirror_mode": {
    "name": "ipython",
    "version": 3
   },
   "file_extension": ".py",
   "mimetype": "text/x-python",
   "name": "python",
   "nbconvert_exporter": "python",
   "pygments_lexer": "ipython3",
   "version": "3.9.13"
  }
 },
 "nbformat": 4,
 "nbformat_minor": 5
}
