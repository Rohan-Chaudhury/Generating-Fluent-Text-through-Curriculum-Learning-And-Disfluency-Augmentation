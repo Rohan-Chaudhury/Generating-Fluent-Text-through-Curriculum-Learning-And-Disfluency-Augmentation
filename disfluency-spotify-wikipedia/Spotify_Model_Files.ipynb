{
 "cells": [
  {
   "cell_type": "code",
   "execution_count": 1,
   "id": "bbbe976d-9a15-497e-af22-17bb00351b45",
   "metadata": {},
   "outputs": [],
   "source": [
    "import os\n",
    "\n",
    "import utils_general\n",
    "import utils_podcasts\n",
    "import utils_model_files"
   ]
  },
  {
   "cell_type": "code",
   "execution_count": 2,
   "id": "b60b5824-3fc2-4120-adc0-7de3e0d159d8",
   "metadata": {},
   "outputs": [],
   "source": [
    "utils_model_files.get_model_files(dataset_name=\"spotify\", trfs=[\"repeats\", \"interjections\", \"false-starts\", \"all-3\"])"
   ]
  }
 ],
 "metadata": {
  "kernelspec": {
   "display_name": "Python 3 (ipykernel)",
   "language": "python",
   "name": "python3"
  },
  "language_info": {
   "codemirror_mode": {
    "name": "ipython",
    "version": 3
   },
   "file_extension": ".py",
   "mimetype": "text/x-python",
   "name": "python",
   "nbconvert_exporter": "python",
   "pygments_lexer": "ipython3",
   "version": "3.9.13"
  }
 },
 "nbformat": 4,
 "nbformat_minor": 5
}
