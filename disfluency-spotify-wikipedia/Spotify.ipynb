{
 "cells": [
  {
   "cell_type": "markdown",
   "id": "23529e2e-e153-4323-b285-c0273cb859b4",
   "metadata": {},
   "source": [
    "# Spotify Podcasts"
   ]
  },
  {
   "cell_type": "code",
   "execution_count": 1,
   "id": "f9a4ebde-3a39-4511-9936-420fbf0b062b",
   "metadata": {
    "tags": []
   },
   "outputs": [],
   "source": [
    "import os\n",
    "import difflib\n",
    "\n",
    "import utils_general\n",
    "import utils_podcasts"
   ]
  },
  {
   "cell_type": "code",
   "execution_count": 2,
   "id": "ec627fdc-e077-4a82-b01f-7e5e1e62759d",
   "metadata": {
    "tags": []
   },
   "outputs": [
    {
     "name": "stdout",
     "output_type": "stream",
     "text": [
      "writing original files out...\n"
     ]
    }
   ],
   "source": [
    "utils_podcasts.write_original_files_out(utils_podcasts.PATH_TO_2020_TESTSET_DIR)"
   ]
  },
  {
   "cell_type": "code",
   "execution_count": 3,
   "id": "c815ff8e-6f3f-463d-bb94-ccf086a173e3",
   "metadata": {},
   "outputs": [
    {
     "name": "stdout",
     "output_type": "stream",
     "text": [
      "writing flattened files out...\n"
     ]
    }
   ],
   "source": [
    "utils_podcasts.write_transformed_files_out()"
   ]
  },
  {
   "cell_type": "markdown",
   "id": "58041d03-b4a4-4ca5-8895-095b7b797f35",
   "metadata": {
    "tags": []
   },
   "source": [
    "## File + transformations"
   ]
  },
  {
   "cell_type": "code",
   "execution_count": 4,
   "id": "51940e08-bb70-4908-be97-87966c60877b",
   "metadata": {},
   "outputs": [
    {
     "name": "stdout",
     "output_type": "stream",
     "text": [
      "I'm Maria Menounos and you're tuned in to AfterBuzz TV the ESPN of TV Todd. Now look the buzz. So excited season 3 episode 9. This episode was insane you guys I'm your host DJ. Unfortunately Ally couldn't be with us tonight, but we'll see her back next week and I'm here with my lovely co-host a b'nai Chatman. Oh my goodness. A lot of things are up on this episode of Siesta Key up and down up and down literally honestly, okay. So who so many things happened on this episode that we need to unravel, but this episode opened up with ish and Madison, which was interesting. It was interesting seeing is back in town. He's back for a little bit unfortunately has to go out to Canada for another few months. I'm about to see him in the episode. I'm glad to see that Madison got her little ish fixed. \n",
      "\n",
      "I'm Maria Menounos and you're tuned in to AfterBuzz TV the ESPN of TV Todd. Now look the buzz. So excited season 3 episode 9. This episode was insane you guys I'm your host DJ. Unfortunately Ally couldn't be with us tonight, but we'll see her back next week and I'm here with my lovely co-host a b'nai Chatman. Oh my goodness. A lot of things are up on this episode of Siesta Key up and down up and down literally honestly, okay. So who so many things happened on this episode that we need to unravel, but this episode opened up with ish and Madison, which was interesting. It was interesting seeing is back in town. He's back for a little bit unfortunately has to go out to Canada for another few months. I'm about to see him in the episode. I'm glad to see that Madison got her little ish fixed. \n",
      "\n",
      "I'm Maria Menounos and you're tuned in to AfterBuzz TV the ESPN of TV Todd Todd Todd Todd. Now look the buzz. So excited season 3 episode 9. This episode was insane you you you you guys I'm your host DJ. Unfortunately Ally couldn't be with us tonight, but we'll we'll we'll we'll see her back next week and I'm here with my lovely co-host a b'nai Chatman. Oh my my my my goodness. A lot of things are up on this episode of Siesta Key up up up up and down up and down literally honestly, okay. So who so many things happened on on on on this episode that we need to unravel, but this episode opened up with with with with ish and Madison, which was interesting. It was interesting seeing is back in town town town town. He's back for a little bit unfortunately has to go out to Canada for another another another another few months. I'm about to see him in the episode. I'm glad to see that Madison got her little ish fixed. \n",
      "\n",
      "I'm Maria Menounos and you're tuned in to AfterBuzz TV the ESPN of so like you know TV Todd. Now look the buzz. So excited season 3 episode 9. This episode like okay well was insane you guys I'm your host DJ. Unfortunately Ally couldn't be with us I mean you know like tonight, but we'll see her back next week and I'm here with my lovely um uh well co-host a b'nai Chatman. Oh my goodness. A lot of things are up on um so I mean this episode of Siesta Key up and down up and down literally honestly, uh like um okay. So who so many things happened on this episode that we need to uh um well unravel, but this episode opened up with ish and Madison, which was interesting. It was well um so interesting seeing is back in town. He's back for a little bit unfortunately has to like uh well go out to Canada for another few months. I'm about to see him in the episode. I'm glad to see that Madison got her little ish fixed. \n",
      "\n",
      "I'm Maria Menounos and you're tuned in to AfterBuzz TV the ESPN of TV Todd. Now look the buzz. So excited season 3 episode 9. This episode was insane you guys I'm your host DJ. Unfortunately Ally couldn't be with us tonight, but we'll see her back next week and I'm here with my lovely co-host a b'nai Chatman. Oh my goodness. A lot of things are up on this episode of Siesta Key up and down up and down literally honestly, okay. So who so many things happened on this episode that we need to unravel, but this episode opened up with ish and Madison, which was interesting. It was it was it was it was interesting seeing is back in town. He's back for a little bit unfortunately has to go out to Canada for another few months. I'm about to see him in the episode. I'm glad to see that Madison got her little ish fixed. \n",
      "\n",
      "I'm Maria Menounos and you're tuned in to AfterBuzz TV the ESPN of TV TV TV TV Todd um so uh. Now look the buzz. So excited season 3 episode episode episode episode 9. This episode this episode this episode this episode was insane you guys guys guys guys you know uh I mean I'm your host DJ. Unfortunately Ally couldn't be with us us us us tonight, but we'll see like so so her back next week and I'm here with with with with my lovely co-host a b'nai Chatman I mean um well. Oh my goodness. A A A A lot of things are up on this episode of okay you know so Siesta Siesta Siesta Siesta Key up and down up and down literally honestly, okay. So who so many things things things things so okay you know happened on this episode that we need to unravel, but this this this this episode opened like so well up with ish and Madison, which was interesting. It was was was was interesting seeing is uh uh uh back in town. He's back for a little little little little bit unfortunately has to go out to Canada um okay okay for another few few few few months. I'm about to see him in the episode. I'm glad to see that Madison got her little ish fixed. \n",
      "\n"
     ]
    }
   ],
   "source": [
    "episode = \"00DkMSm0fRH9TpwtvJL4N0\" # 00DkMSm0fRH9TpwtvJL4N0 00SE6vEbN1PU6OFV9anG5i 08RS6NQIGy9O2KyKVlCzdU\n",
    "num = \"3\"\n",
    "print(utils_general.read_file(os.path.join(\".\", \"spotify\", \"1min\", f\"{episode}.txt\")), \"\\n\")\n",
    "print(utils_general.read_file(os.path.join(\".\", \"spotify\", \"0\", f\"{episode}.txt\")), \"\\n\")\n",
    "print(utils_general.read_file(os.path.join(\".\", \"spotify\", \"repeats\", f\"{num}_{episode}.txt\")), \"\\n\")\n",
    "print(utils_general.read_file(os.path.join(\".\", \"spotify\", \"interjections\", f\"{num}_{episode}.txt\")), \"\\n\")\n",
    "print(utils_general.read_file(os.path.join(\".\", \"spotify\", \"false-starts\", f\"{num}_{episode}.txt\")), \"\\n\")\n",
    "print(utils_general.read_file(os.path.join(\".\", \"spotify\", \"all-3\", f\"{num}_{episode}.txt\")), \"\\n\")"
   ]
  },
  {
   "cell_type": "markdown",
   "id": "c8d22127-5733-4133-9355-adf74fec73f3",
   "metadata": {},
   "source": [
    "## Reproducibility Checks\n",
    "\n",
    "Makes sure that the output of these 3 files (selected randomly) is the same."
   ]
  },
  {
   "cell_type": "code",
   "execution_count": 5,
   "id": "141856ee-8e43-47e9-82b9-dba3d6083a94",
   "metadata": {},
   "outputs": [
    {
     "name": "stdout",
     "output_type": "stream",
     "text": [
      "writing original files out...\n",
      "writing flattened files out...\n",
      "[]\n",
      "[]\n",
      "[]\n"
     ]
    }
   ],
   "source": [
    "random_file_1_path = os.path.join(\".\", \"spotify\", \"repeats-and-false-starts\",\"8_5CccnoO1WGVrT8YSiv3UnP.txt\")\n",
    "random_file_2_path = os.path.join(\".\", \"spotify\", \"interjections\",\"6_5CccnoO1WGVrT8YSiv3UnP.txt\")\n",
    "random_file_3_path = os.path.join(\".\", \"spotify\", \"all-3\",\"1_5CccnoO1WGVrT8YSiv3UnP.txt\")\n",
    "\n",
    "# reads the output of 3 files\n",
    "random_file_1 = utils_general.read_file(random_file_1_path)\n",
    "random_file_2 = utils_general.read_file(random_file_2_path)\n",
    "random_file_3 = utils_general.read_file(random_file_3_path)\n",
    "\n",
    "# re-runs the writing files out & transformations\n",
    "utils_podcasts.write_original_files_out(utils_podcasts.PATH_TO_2020_TESTSET_DIR)\n",
    "utils_podcasts.write_transformed_files_out()\n",
    "run2_random_file_1 = utils_general.read_file(random_file_1_path)\n",
    "run2_random_file_2 = utils_general.read_file(random_file_2_path)\n",
    "run2_random_file_3 = utils_general.read_file(random_file_3_path)\n",
    "\n",
    "# ensures that the new files are the same as the old files\n",
    "print(list(difflib.unified_diff(random_file_1.split(\" \"), run2_random_file_1.split(\" \"))))\n",
    "print(list(difflib.unified_diff(random_file_2.split(\" \"), run2_random_file_2.split(\" \"))))\n",
    "print(list(difflib.unified_diff(random_file_3.split(\" \"), run2_random_file_3.split(\" \"))))"
   ]
  }
 ],
 "metadata": {
  "kernelspec": {
   "display_name": "Python 3 (ipykernel)",
   "language": "python",
   "name": "python3"
  },
  "language_info": {
   "codemirror_mode": {
    "name": "ipython",
    "version": 3
   },
   "file_extension": ".py",
   "mimetype": "text/x-python",
   "name": "python",
   "nbconvert_exporter": "python",
   "pygments_lexer": "ipython3",
   "version": "3.9.13"
  }
 },
 "nbformat": 4,
 "nbformat_minor": 5
}
