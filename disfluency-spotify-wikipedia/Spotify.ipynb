{
 "cells": [
  {
   "cell_type": "markdown",
   "id": "23529e2e-e153-4323-b285-c0273cb859b4",
   "metadata": {},
   "source": [
    "# Spotify Podcasts"
   ]
  },
  {
   "cell_type": "code",
   "execution_count": 1,
   "id": "f9a4ebde-3a39-4511-9936-420fbf0b062b",
   "metadata": {},
   "outputs": [],
   "source": [
    "import os\n",
    "import difflib\n",
    "\n",
    "import utils_general\n",
    "import utils_podcasts"
   ]
  },
  {
   "cell_type": "code",
   "execution_count": 2,
   "id": "ec627fdc-e077-4a82-b01f-7e5e1e62759d",
   "metadata": {},
   "outputs": [
    {
     "name": "stdout",
     "output_type": "stream",
     "text": [
      "writing original files out...\n"
     ]
    }
   ],
   "source": [
    "utils_podcasts.write_original_files_out(utils_podcasts.PATH_TO_2020_TESTSET_DIR)"
   ]
  },
  {
   "cell_type": "code",
   "execution_count": 3,
   "id": "c815ff8e-6f3f-463d-bb94-ccf086a173e3",
   "metadata": {},
   "outputs": [
    {
     "name": "stdout",
     "output_type": "stream",
     "text": [
      "writing flattened files out...\n",
      "writing input: spotify\n"
     ]
    }
   ],
   "source": [
    "utils_podcasts.write_transformed_files_out()"
   ]
  },
  {
   "cell_type": "markdown",
   "id": "58041d03-b4a4-4ca5-8895-095b7b797f35",
   "metadata": {},
   "source": [
    "## File + transformations"
   ]
  },
  {
   "cell_type": "code",
   "execution_count": 4,
   "id": "51940e08-bb70-4908-be97-87966c60877b",
   "metadata": {},
   "outputs": [
    {
     "name": "stdout",
     "output_type": "stream",
     "text": [
      "I'm Maria Menounos and you're tuned in to AfterBuzz TV the ESPN of TV Todd. Now look the buzz. So excited season 3 episode 9. This episode was insane you guys I'm your host DJ. Unfortunately Ally couldn't be with us tonight, but we'll see her back next week and I'm here with my lovely co-host a b'nai Chatman. Oh my goodness. A lot of things are up on this episode of Siesta Key up and down up and down literally honestly, okay. So who so many things happened on this episode that we need to unravel, but this episode opened up with ish and Madison, which was interesting. It was interesting seeing is back in town. He's back for a little bit unfortunately has to go out to Canada for another few months. I'm about to see him in the episode. I'm glad to see that Madison got her little ish fixed. \n",
      "\n",
      "I'm Maria Menounos and you're tuned in to AfterBuzz TV the ESPN of TV Todd. Now look the buzz. So excited season 3 episode 9. This episode was insane you guys I'm your host DJ. Unfortunately Ally couldn't be with us tonight, but we'll see her back next week and I'm here with my lovely co-host a b'nai Chatman. Oh my goodness. A lot of things are up on this episode of Siesta Key up and down up and down literally honestly, okay. So who so many things happened on this episode that we need to unravel, but this episode opened up with ish and Madison, which was interesting. It was interesting seeing is back in town. He's back for a little bit unfortunately has to go out to Canada for another few months. I'm about to see him in the episode. I'm glad to see that Madison got her little ish fixed. \n",
      "\n",
      "I'm Maria Menounos and you're tuned in to AfterBuzz TV the ESPN ESPN ESPN ESPN of TV Todd. Now look the buzz. So excited season 3 episode 9. This episode was insane insane insane insane you guys I'm your host DJ. Unfortunately Ally couldn't be with us tonight, tonight, tonight, tonight, but we'll see her back next week and I'm here with my lovely co-host a a a a b'nai Chatman. Oh my goodness. A lot of things are up on this this this this episode of Siesta Key up and down up and down literally honestly, okay. So who who who who so many things happened on this episode that we need to unravel, but this episode episode episode episode opened up with ish and Madison, which was interesting. It was interesting seeing seeing seeing seeing is back in town. He's back for a little bit unfortunately has to go go go go out to Canada for another few months. I'm about to see him in the episode. I'm glad to see that Madison got her little ish fixed. \n",
      "\n",
      "I'm Maria Menounos and you're tuned in to AfterBuzz TV the ESPN of TV Todd. Now uh um like look the buzz. So excited season 3 episode 9. This episode was insane you so you know okay guys I'm your host DJ. Unfortunately Ally couldn't be with us tonight, but we'll see so like like her back next week and I'm here with my lovely co-host a b'nai Chatman. Oh you know okay well my goodness. A lot of things are up on this episode of Siesta Key up well like well and down up and down literally honestly, okay. So who so many things happened on like so uh this episode that we need to unravel, but this episode opened up with ish and Madison, uh well okay which was interesting. It was interesting seeing is back in town. He's back for a like well so little bit unfortunately has to go out to Canada for another few months. I'm so so so about to see him in the episode. I'm glad to see that Madison got her little ish fixed. \n",
      "\n",
      "I'm Maria Menounos and you're tuned in to AfterBuzz TV the ESPN of TV Todd. Now look the buzz. So excited so excited so excited so excited season 3 episode 9. This episode was insane you guys I'm your host DJ. Unfortunately Ally couldn't be with us tonight, but we'll see her back next week and I'm here with my lovely co-host a b'nai Chatman. Oh my goodness. A lot of things are up on this episode of Siesta Key up and down up and down literally honestly, okay. So who so many things happened on this episode that we need to unravel, but this episode opened up with ish and Madison, which was interesting. It was interesting seeing is back in town. He's back he's back he's back he's back for a little bit unfortunately has to go out to Canada for another few months. I'm about I'm about I'm about I'm about to see him in the episode. I'm glad to see that Madison got her little ish fixed. \n",
      "\n",
      "I'm Maria I'm Maria I'm Maria I'm Maria Menounos and you're tuned in in in in to AfterBuzz TV the ESPN of TV todd. Okay well so. Now look the the the the buzz. So excited season 3 episode 9. This episode this episode this episode this episode was insane insane insane insane so well so you guys I'm your host DJ. Unfortunately Ally couldn't be with with with with us tonight, but we'll see I mean I mean like her back next week and and and and I'm here with my lovely co-host a b'nai chatman. You know you know you you you you know. Oh my goodness. A lot alot alot alot of things are up on on on on this episode of Siesta Key um so okay up and down up and down down down down literally honestly, okay. So who so who so who so who so many things happened on on on on well like you know this episode that we need to unravel, but this this this this episode opened up with ish and um you know so Madison, which which which which was interesting. It was interesting seeing is back in town. He's like well well well well you know back for a little bit unfortunately has to go out to Canada for another another another another few uh okay uh months. I'm about to see him in the episode. I'm glad to see that Madison got her little ish fixed. \n",
      "\n"
     ]
    }
   ],
   "source": [
    "episode = \"00DkMSm0fRH9TpwtvJL4N0\" # 00DkMSm0fRH9TpwtvJL4N0 00SE6vEbN1PU6OFV9anG5i 08RS6NQIGy9O2KyKVlCzdU\n",
    "print(utils_general.read_file(os.path.join(\".\", \"spotify\", f\"{episode}.txt\")), \"\\n\")\n",
    "print(utils_general.read_file(os.path.join(\".\", \"spotify\", \"repeats\", f\"0_{episode}.txt\")), \"\\n\")\n",
    "print(utils_general.read_file(os.path.join(\".\", \"spotify\", \"repeats\", f\"3_{episode}.txt\")), \"\\n\")\n",
    "print(utils_general.read_file(os.path.join(\".\", \"spotify\", \"interjections\", f\"3_{episode}.txt\")), \"\\n\")\n",
    "print(utils_general.read_file(os.path.join(\".\", \"spotify\", \"false-starts\", f\"3_{episode}.txt\")), \"\\n\")\n",
    "print(utils_general.read_file(os.path.join(\".\", \"spotify\", \"all-3\", f\"3_{episode}.txt\")), \"\\n\")"
   ]
  },
  {
   "cell_type": "markdown",
   "id": "c8d22127-5733-4133-9355-adf74fec73f3",
   "metadata": {},
   "source": [
    "## Reproducibility Checks\n",
    "\n",
    "Makes sure that the output of these 3 files (selected randomly) is the same."
   ]
  },
  {
   "cell_type": "code",
   "execution_count": 5,
   "id": "141856ee-8e43-47e9-82b9-dba3d6083a94",
   "metadata": {},
   "outputs": [
    {
     "name": "stdout",
     "output_type": "stream",
     "text": [
      "writing original files out...\n",
      "writing flattened files out...\n",
      "writing input: spotify\n",
      "[]\n",
      "[]\n",
      "[]\n"
     ]
    }
   ],
   "source": [
    "random_file_1_path = os.path.join(\".\", \"spotify\", \"repeats-and-false-starts\",\"8_5CccnoO1WGVrT8YSiv3UnP.txt\")\n",
    "random_file_2_path = os.path.join(\".\", \"spotify\", \"interjections\",\"0_5CccnoO1WGVrT8YSiv3UnP.txt\")\n",
    "random_file_3_path = os.path.join(\".\", \"spotify\", \"all-3\",\"0_5CccnoO1WGVrT8YSiv3UnP.txt\")\n",
    "\n",
    "# reads the output of 3 files\n",
    "random_file_1 = utils_general.read_file(random_file_1_path)\n",
    "random_file_2 = utils_general.read_file(random_file_2_path)\n",
    "random_file_3 = utils_general.read_file(random_file_3_path)\n",
    "\n",
    "# re-runs the writing files out & transformations\n",
    "utils_podcasts.write_original_files_out(utils_podcasts.PATH_TO_2020_TESTSET_DIR)\n",
    "utils_podcasts.write_transformed_files_out()\n",
    "run2_random_file_1 = utils_general.read_file(random_file_1_path)\n",
    "run2_random_file_2 = utils_general.read_file(random_file_2_path)\n",
    "run2_random_file_3 = utils_general.read_file(random_file_3_path)\n",
    "\n",
    "# ensures that the new files are the same as the old files\n",
    "print(list(difflib.unified_diff(random_file_1.split(\" \"), run2_random_file_1.split(\" \"))))\n",
    "print(list(difflib.unified_diff(random_file_2.split(\" \"), run2_random_file_2.split(\" \"))))\n",
    "print(list(difflib.unified_diff(random_file_3.split(\" \"), run2_random_file_3.split(\" \"))))"
   ]
  }
 ],
 "metadata": {
  "kernelspec": {
   "display_name": "Python 3 (ipykernel)",
   "language": "python",
   "name": "python3"
  },
  "language_info": {
   "codemirror_mode": {
    "name": "ipython",
    "version": 3
   },
   "file_extension": ".py",
   "mimetype": "text/x-python",
   "name": "python",
   "nbconvert_exporter": "python",
   "pygments_lexer": "ipython3",
   "version": "3.9.13"
  }
 },
 "nbformat": 4,
 "nbformat_minor": 5
}
