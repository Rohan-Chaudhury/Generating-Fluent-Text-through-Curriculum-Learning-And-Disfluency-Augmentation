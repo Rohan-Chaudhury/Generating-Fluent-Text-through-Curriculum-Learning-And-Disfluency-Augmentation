{
 "cells": [
  {
   "cell_type": "markdown",
   "id": "8f724ab3-dc41-416d-bcc1-4c5daee612c1",
   "metadata": {},
   "source": [
    "# Swb"
   ]
  },
  {
   "cell_type": "code",
   "execution_count": 1,
   "id": "a1b127c6-650a-49eb-a28a-76b5c77682dc",
   "metadata": {},
   "outputs": [
    {
     "name": "stdout",
     "output_type": "stream",
     "text": [
      "/home/grads/m/mariateleki/disfluency/treebank_3\n"
     ]
    }
   ],
   "source": [
    "import os\n",
    "import re\n",
    "import numpy as np\n",
    "import difflib\n",
    "\n",
    "import tb\n",
    "\n",
    "import utils_general\n",
    "import utils_trees\n",
    "import utils_swb\n",
    "\n",
    "print(tb.PTB_base_dir)"
   ]
  },
  {
   "cell_type": "markdown",
   "id": "3873fc1d-e2f2-469e-a1ee-623f656463db",
   "metadata": {},
   "source": [
    "# Train, Dev, Test Splits"
   ]
  },
  {
   "cell_type": "code",
   "execution_count": 2,
   "id": "6b0dff26-bbdd-456d-a02a-1a694667f66f",
   "metadata": {},
   "outputs": [
    {
     "name": "stdout",
     "output_type": "stream",
     "text": [
      "-----TESTS-----\n",
      "\n",
      "total number of swb files: 650\n",
      "number of files in 4 dir: 154\n",
      "number of dev files: 63\n",
      "number of test files: 91 \n",
      "\n",
      "preview of train_files: ['/home/grads/m/mariateleki/disfluency/treebank_3/parsed/mrg/swbd/2/sw2717.mrg', '/home/grads/m/mariateleki/disfluency/treebank_3/parsed/mrg/swbd/2/sw2877.mrg', '/home/grads/m/mariateleki/disfluency/treebank_3/parsed/mrg/swbd/2/sw2383.mrg', '/home/grads/m/mariateleki/disfluency/treebank_3/parsed/mrg/swbd/2/sw2111.mrg', '/home/grads/m/mariateleki/disfluency/treebank_3/parsed/mrg/swbd/2/sw2640.mrg'] \n",
      "\n",
      "preview of dev_files: ['/home/grads/m/mariateleki/disfluency/treebank_3/parsed/mrg/swbd/4/sw4099.mrg', '/home/grads/m/mariateleki/disfluency/treebank_3/parsed/mrg/swbd/4/sw4013.mrg', '/home/grads/m/mariateleki/disfluency/treebank_3/parsed/mrg/swbd/4/sw4108.mrg', '/home/grads/m/mariateleki/disfluency/treebank_3/parsed/mrg/swbd/4/sw4154.mrg', '/home/grads/m/mariateleki/disfluency/treebank_3/parsed/mrg/swbd/4/sw4026.mrg'] \n",
      "\n",
      "preview of test_files: ['/home/grads/m/mariateleki/disfluency/treebank_3/parsed/mrg/swbd/4/sw4688.mrg', '/home/grads/m/mariateleki/disfluency/treebank_3/parsed/mrg/swbd/4/sw4363.mrg', '/home/grads/m/mariateleki/disfluency/treebank_3/parsed/mrg/swbd/4/sw4890.mrg', '/home/grads/m/mariateleki/disfluency/treebank_3/parsed/mrg/swbd/4/sw4697.mrg', '/home/grads/m/mariateleki/disfluency/treebank_3/parsed/mrg/swbd/4/sw4784.mrg'] \n",
      "\n"
     ]
    }
   ],
   "source": [
    "mrg_path = os.path.join(tb.PTB_base_dir, \"parsed\", \"mrg\", \"swbd\")\n",
    "\n",
    "# get train_files\n",
    "train_files_2 = [os.path.join(mrg_path, \"2\", file) for file in os.listdir(os.path.join(mrg_path, \"2\")) if \"sw2\" in file]\n",
    "train_files_3 = [os.path.join(mrg_path, \"3\", file) for file in os.listdir(os.path.join(mrg_path, \"3\")) if \"sw3\" in file]\n",
    "train_files = train_files_2 + train_files_3\n",
    "\n",
    "# get dev_files\n",
    "dev_files = [os.path.join(mrg_path, \"4\", file) for file in os.listdir(os.path.join(mrg_path, \"4\")) if \"sw40\" in file or \"sw41\" in file]\n",
    "\n",
    "# get test_files\n",
    "test_files = [os.path.join(mrg_path, \"4\", file) for file in os.listdir(os.path.join(mrg_path, \"4\")) if not (\"sw40\" in file or \"sw41\" in file)]\n",
    "\n",
    "# test that the number of files is correct\n",
    "print(\"-----TESTS-----\\n\")\n",
    "print(\"total number of swb files:\", len(train_files + dev_files + test_files))\n",
    "print(\"number of files in 4 dir:\", len([file for file in os.listdir(os.path.join(mrg_path, \"4\"))]))\n",
    "print(\"number of dev files:\", len(dev_files))\n",
    "print(\"number of test files:\", len(test_files), \"\\n\")\n",
    "print(\"preview of train_files:\", train_files[0:5], \"\\n\")\n",
    "print(\"preview of dev_files:\", dev_files[0:5], \"\\n\")\n",
    "print(\"preview of test_files:\", test_files[0:5], \"\\n\")"
   ]
  },
  {
   "cell_type": "code",
   "execution_count": 3,
   "id": "9361a50a-00f4-4851-b74e-7e2373fbaf2f",
   "metadata": {},
   "outputs": [],
   "source": [
    "# copies over the trees and the trees with tags\n",
    "tagged_train_files, tagged_dev_files, tagged_test_files = utils_swb.get_trees_and_trees_tagged_files(train_files, dev_files, test_files)"
   ]
  },
  {
   "cell_type": "markdown",
   "id": "f5da0536-faed-403f-90af-540202e8b57c",
   "metadata": {},
   "source": [
    "# Create Fluent & Disfluent Versions"
   ]
  },
  {
   "cell_type": "code",
   "execution_count": 4,
   "id": "45ddc45c-120b-4930-b559-479b919be3c0",
   "metadata": {},
   "outputs": [
    {
     "name": "stdout",
     "output_type": "stream",
     "text": [
      "\n",
      "-----print a single file with its fluent and disfluent version -----\n",
      "\n",
      "DISFLUENT <SEP> COUNT: 31\n",
      "FLUENT <SEP> COUNT: 31 \n",
      "\n",
      "\n",
      "DISFLUENT: Wh- what's your uh. Uh. Are you into the Cowboys? <SEP> Oh God no. Uh no. I'm not. I haven't been. I grew up in Dallas but I'm still not a Cowboys' man. I like Philadelphia Eagles. Oh yeah? <SEP> Yeah. Well that that's all right. That's my favorite team. So. <SEP> Uh now that Randall's coming back next season I hope they'll be do a little bit better. They didn't do too bad last season. Yeah. But I hope they can do better. How about yourself? Well I don't know. I kind of go back and forth uh depending on who's really hot and who's not. I guess I'm kind of a fair weather fan in a lot of respects. <SEP> Uh-huh. But uh I guess if I have uh my druthers I'd probably go for the Seattle Seahawks. Oh tha-. I kind of like them. <SEP> Yeah. That's another one of my favorites. Yeah. They're kind of. They're not they're not my favorite totally. But I do like them. I like. Yeah. Yo-. <SEP> Seahawks are good. They. Now that Steve Largent is gone I kind of lose a little bit for them. But you know he. Yeah. To be honest with you I I probably watch uh college a little bit more than I do pro. <SEP> Really? Yeah. Huh. I kind of like college actually. Quite a bit. <SEP> Yeah. That's kind of that's kind of strange. It's too much running for me in in college football. I like I like the pros. Is it? They do you know. It's more high tech. More you know players are apt to act a little bit different when they when their jobs and their when it's a job and not just you know. Yeah. Yeah. That could be. <SEP> When you're getting paid millions to do it you ac- I think they take it to another level. Yeah. But I can see it's more you know grunted out run the ball type. College football is a little bit different. But. Yeah. You probably wouldn't like my favorite team in college then. <SEP> Who- who's that? Notre Dame? No. I root for Nebraska quite a bit. <SEP> N- Nebraska. Yeah. There's a running team. Ye-. Yeah. That that that's boring for me. I I'll take the passing teams any day. Yeah. <SEP> But. Well I can see I can see definitely how you get into that. I to be honest with you I find th- that too much running gets pretty boring as well. And. Yeah. It's just it's four yards three yards eight yards tackle. Right. <SEP> That's you know it gets kind of monotonous. After awhile I I prefer forty a nice forty yard flea flicker every now and then just just to juice it up a little bit. Sure. And but. Well I think they're starting to realize that. A lot of the like the big eight teams that used to run so much. I think they're starting to realize that they just can't compete anymore. <SEP> Yeah. It's high dollar. You know it's all it's all money now. Even college is all can we get on T V. Right. So. Yeah. <SEP> That's that's. So uh what's d-. This World League is coming in? Uh that's getting ready to start up right? Right. Yeah. Have you followed that very much. Or. <SEP> Uh not really. I I don't think anything will ever take over the N F L. I think it's basically you know it's it's an institution. Yeah. It's like if we tried to start something to take over major league baseball. It's just I just you know. Yeah. <SEP> I mean it it it can be it can take over part of it. But it's never going to be the next. Right. It can take over a small market share. But nothing really. Yeah. It's going to take a little bit. Some people are going to watch it. But it's not going to be wide spread super bowl and every Sunday afternoon or anything you know. Right. <SEP> It's just it's never going to reach that that standard. But. Yeah. I think I agree with you. It's it's kind of interesting to see uh to see their claim of you know like world football. But when in reality it's really Americans playing somewhere else you know. Yeah. Yeah. It's kind of it's kind of strange. Uh I guess we're the only ones who take it that far. <SEP> Everybody else still nuts over soccer. But. Yeah. Actually uh I kind of like soccer. I've never really played it. Yeah? But uh I like the idea. It's it's an interesting game to watch. That and rugby. I've like to watch rugby every now and then. <SEP> Yeah. Or Australian rules football. That's. Yeah. Whatever you want to call it there. <SEP> Yeah. That's some brutal stuff there. That's that's worse than football as far as violence I think. Golly. Those guys kill each other out there. Rugby is something else. Yeah. Yeah. There's an element there's definitely an element of stupidity in there somewhere. Yeah. That's just wild. That's why it's a go- a big college thing. Yeah. <SEP> Rugby is definitely big in college. Because it's something a bunch of fraternity guys can get together and get a good beer buzz going and do. Right. Exactly. Yeah. Tha-. So yeah. I could see the feel for that. But it's it's pretty it's fun to play. Yeah. <SEP> I'll give it that. It is fun to play. If you don't value your very much. You've played it then? But you know I don't think rugby will ever be professional. But it it's it's. No I doubt it you know. Not at least not in this country anyway. <SEP> No. You can't stay healthy and do that. That's a rough game. Yeah. It is. <SEP> But uh I don't know. I don't know how my Eagles are going to do this year. So you. The the Seahawks are an up and down kind of team. They really are. Yeah. <SEP> Yeah. My my it's kind of odd. My roommate that I live with here he's uh he's lived in Pennock Minnesota. Do you know where that is? Uh no. I don't. To tell you the truth I'm. It it's a small town. It's about two hours. It's in like central Minnesota. It's a couple of hours uh west of Minneapolis. Okay. <SEP> But uh. To tell you the truth I'm not even really from here. You just live there now. Yeah. I'm I'm up here for a year on an internship. <SEP> Uh-huh. Well he's. But I I actually live in Florida. Live in Florida. Yeah. <SEP> Like the Seahawks. Well you know I. I mean who who who the heck is going to root for Tampa Bay right? Hey I I I've only been to Philadelphia twice. <SEP> And I you know I I still like. Really. Really. I mean I guess I could go for Miami. But I don't know. <SEP> Yeah. But. I'm from. I root for Nebraska. So I'm I don't have a real love for Miami anyway. But I don't know. I I guess I get into pretty much. \n",
      "\n",
      "\n",
      "FLUENT: What's your. Are you into the Cowboys? <SEP> I'm not. I haven't been. I grew up in Dallas but I'm still not a Cowboys' man. I like Philadelphia Eagles. <SEP> That's all right. That's my favorite team. So. <SEP> Now that Randall's coming back next season I hope they'll do a little bit better. They didn't do too bad last season. But I hope they can do better. How about yourself? I don't know. I kind of go back and forth depending on who's really hot and who's not. I guess I'm kind of a fair weather fan in a lot of respects. <SEP> But I guess if I have my druthers I'd probably go for the Seattle Seahawks. Tha-. I kind of like them. <SEP> That's another one of my favorites. They're kind of. They're not my favorite totally. But I do like them. I like. Yo-. <SEP> Seahawks are good. They. Now that Steve Largent is gone I kind of lose a little bit for them. But he. To be honest with you I probably watch college a little bit more than I do pro. <SEP>. I kind of like college actually. Quite a bit. <SEP> That's kind of strange. It's too much running for me in college football. I like the pros. Is it? They do. It's more high tech. More players are apt to act a little bit different when it's a job and not just. That could be. <SEP> When you're getting paid millions to do it I think they take it to another level. But I can see it's more grunted out run the ball type. College football is a little bit different. But. You probably wouldn't like my favorite team in college then. <SEP> Who's that? Notre Dame? I root for Nebraska quite a bit. <SEP> Nebraska. There's a running team. Ye-. That's boring for me. I'll take the passing teams any day. <SEP> But. I can see definitely how you get into that. To be honest with you I find that too much running gets pretty boring as well. And. It's four yards three yards eight yards tackle. <SEP> It gets kind of monotonous. After awhile I prefer a nice forty yard flea flicker every now and then just to juice it up a little bit. But. I think they're starting to realize that. A lot of the big eight teams that used to run so much. I think they're starting to realize that they just can't compete anymore. <SEP> It's high dollar. It's all money now. Even college is all can we get on T V. So. <SEP> That's. So what's d-. This World League is coming in? That's getting ready to start up? Have you followed that very much. Or. <SEP> Not really. I don't think anything will ever take over the N F L. I think it's an institution. It's like if we tried to start something to take over major league baseball. I just. <SEP> It can take over part of it. But it's never going to be the next. It can take over a small market share. But nothing really. It's going to take a little bit. Some people are going to watch it. But it's not going to be wide spread super bowl and every Sunday afternoon or anything. <SEP> It's never going to reach that standard. But. I think I agree with you. It's kind of interesting to see their claim of world football. But when in reality it's really Americans playing somewhere else. It's kind of strange. I guess we're the only ones who take it that far. <SEP> Everybody else still nuts over soccer. But. Actually I kind of like soccer. I've never really played it. But I like the idea. It's an interesting game to watch. That and rugby. I like to watch rugby every now and then. <SEP> Or Australian rules football. That's. Whatever you want to call it there. <SEP> That's some brutal stuff there. That's worse than football as far as violence I think. Those guys kill each other out there. Rugby is something else. There's definitely an element of stupidity in there somewhere. That's just wild. That's why it's a big college thing. <SEP> Rugby is definitely big in college. Because it's something a bunch of fraternity guys can get together and get a good beer buzz going and do. Tha-. So. I could see the feel for that. But it's fun to play. <SEP> I'll give it that. It is fun to play. If you don't value your very much. You've played it then? But I don't think rugby will ever be professional. But it's. I doubt it. Not in this country anyway. <SEP> You can't stay healthy and do that. That's a rough game. It is. <SEP> But I don't know. I don't know how my Eagles are going to do this year. So you. The Seahawks are an up and down kind of team. They really are. <SEP> It's kind of odd. My roommate that I live with here he's lived in Pennock Minnesota. Do you know where that is? I don't. To tell you the truth I'm. It's a small town. It's about two hours. It's in central Minnesota. It's a couple of hours west of Minneapolis. <SEP> But. To tell you the truth I'm not even really from here. You just live there now. I'm up here for a year on an internship. <SEP> He's. But I actually live in Florida. Live in Florida. <SEP> Like the Seahawks. Who the heck is going to root for Tampa Bay? I've only been to Philadelphia twice. <SEP> And I still like. I guess I could go for Miami. But I don't know. <SEP> But. I'm from. I root for Nebraska. So I don't have a real love for Miami anyway. But I don't know. I guess I get into pretty much. \n",
      "\n",
      "\n"
     ]
    }
   ],
   "source": [
    "print(\"\\n-----print a single file with its fluent and disfluent version -----\\n\")\n",
    "\n",
    "EXAMPLE_FILE = \"./swb/test/trees-tagged/sw4363.mrg\" # \"./train/trees-tagged/sw2005.mrg\" \"./train/trees-tagged/sw2008.mrg\" \"test/trees-tagged/sw4311.mrg\"\n",
    "\n",
    "disfluent_text = utils_trees.get_clean_transcript_from_tree_file(filepath=EXAMPLE_FILE, get_disfluent=True)\n",
    "fluent_text = utils_trees.get_clean_transcript_from_tree_file(filepath=EXAMPLE_FILE, get_disfluent=False)\n",
    "\n",
    "# uncomment this line to print the original tree file\n",
    "# print(utils_general.read_file(EXAMPLE_FILE), \"\\n\\n\")\n",
    "\n",
    "print(\"DISFLUENT <SEP> COUNT:\", disfluent_text.count(\"<SEP>\"))\n",
    "print(\"FLUENT <SEP> COUNT:\", fluent_text.count(\"<SEP>\"), \"\\n\\n\")\n",
    "\n",
    "print(\"DISFLUENT:\", disfluent_text, \"\\n\\n\")\n",
    "print(\"FLUENT:\", fluent_text, \"\\n\\n\")"
   ]
  },
  {
   "cell_type": "code",
   "execution_count": 5,
   "id": "e20dbc57-d98c-46d7-88ed-3d45db2617df",
   "metadata": {},
   "outputs": [],
   "source": [
    "utils_swb.get_fluent_and_disfluent_files(tagged_train_files, tagged_dev_files, tagged_test_files)"
   ]
  },
  {
   "cell_type": "markdown",
   "id": "37b93b27-e496-4844-af42-95f3cd57ad39",
   "metadata": {},
   "source": [
    "# Reproducibility Check\n",
    "Makes sure that the output of these 3 files (selected randomly) is the same."
   ]
  },
  {
   "cell_type": "code",
   "execution_count": 6,
   "id": "653a2b8d-87ec-48a2-b049-c5e71693e33e",
   "metadata": {},
   "outputs": [
    {
     "name": "stdout",
     "output_type": "stream",
     "text": [
      "[]\n",
      "[]\n",
      "[]\n"
     ]
    }
   ],
   "source": [
    "random_file_1_path = os.path.join(\".\", \"swb/test/fluent/sw4312.txt\")\n",
    "random_file_2_path = os.path.join(\".\", \"swb/test/disfluent/sw4785.txt\")\n",
    "random_file_3_path = os.path.join(\".\", \"swb/dev/trees-tagged/sw4137.mrg\") \n",
    "\n",
    "# reads the output of 3 files\n",
    "random_file_1 = utils_general.read_file(random_file_1_path)\n",
    "random_file_2 = utils_general.read_file(random_file_2_path)\n",
    "random_file_3 = utils_general.read_file(random_file_3_path)\n",
    "\n",
    "# re-runs the writing files out & transformations\n",
    "train_files, dev_files, test_files = utils_swb.get_trees_and_trees_tagged_files(train_files, dev_files, test_files)\n",
    "utils_swb.get_fluent_and_disfluent_files(train_files, dev_files, test_files)\n",
    "\n",
    "run2_random_file_1 = utils_general.read_file(random_file_1_path)\n",
    "run2_random_file_2 = utils_general.read_file(random_file_2_path)\n",
    "run2_random_file_3 = utils_general.read_file(random_file_3_path)\n",
    "\n",
    "# ensures that the new files are the same as the old files\n",
    "print(list(difflib.unified_diff(random_file_1.split(\" \"), run2_random_file_1.split(\" \"))))\n",
    "print(list(difflib.unified_diff(random_file_2.split(\" \"), run2_random_file_2.split(\" \"))))\n",
    "print(list(difflib.unified_diff(random_file_3.split(\" \"), run2_random_file_3.split(\" \"))))"
   ]
  },
  {
   "cell_type": "markdown",
   "id": "f89aef9d-1005-4d76-ba9f-5482a54a6e4d",
   "metadata": {},
   "source": [
    "# Write `./model_files`"
   ]
  },
  {
   "cell_type": "code",
   "execution_count": 7,
   "id": "a79ce3ae-f209-4dca-8767-fdb9b24b4706",
   "metadata": {
    "tags": []
   },
   "outputs": [],
   "source": [
    "utils_general.create_and_or_clear_this_dir(os.path.join(\".\", \"swb\", \"model_files\"))\n",
    "\n",
    "fluency_dict = {\"fluent\": False, \"disfluent\": True}\n",
    "\n",
    "for split in [\"train\", \"dev\", \"test\"]:\n",
    "    \n",
    "    input_dir = os.path.join(\".\", \"swb\", split)\n",
    "    output_dir = os.path.join(\".\", \"swb\", \"model_files\", split)\n",
    "    \n",
    "    utils_general.just_create_this_dir(input_dir)\n",
    "    utils_general.create_and_or_clear_this_dir(output_dir)\n",
    "    \n",
    "    for fluency, fluency_bool in fluency_dict.items():\n",
    "        # write it out to the csv\n",
    "        current_input_dir = os.path.join(input_dir, fluency)\n",
    "        current_output_path = os.path.join(output_dir, fluency + \".txt\")\n",
    "        for file in [os.path.join(current_input_dir,f) for f in os.listdir(os.path.join(current_input_dir)) if (f.endswith(\".txt\") and not f.endswith(\"-checkpoint.txt\"))]:\n",
    "            new_file_name = file.split(\"/\")[-1].replace(\".mrg\",\".txt\")\n",
    "            text = \"\"\n",
    "            text = utils_general.read_file(os.path.join(\".\", \"swb\", split, fluency, new_file_name))\n",
    "            with open(current_output_path, mode=\"a\") as f:\n",
    "                f.write(new_file_name + \":\" + text + \"\\n\")"
   ]
  },
  {
   "cell_type": "markdown",
   "id": "0489464c-1bcb-4b17-be8d-a476e9065f61",
   "metadata": {},
   "source": [
    "# Tests"
   ]
  },
  {
   "cell_type": "code",
   "execution_count": 8,
   "id": "bd6faa67-1f25-45c6-b3c7-09e82ee822ac",
   "metadata": {},
   "outputs": [
    {
     "name": "stdout",
     "output_type": "stream",
     "text": [
      "\n",
      "----- <SEP> alignment tests to ensure there are the same number of <SEP>s in each file-----\n",
      "\n",
      "train\n",
      "13898\n",
      "13898\n",
      "\n",
      "dev\n",
      "1184\n",
      "1184\n",
      "\n",
      "test\n",
      "1496\n",
      "1496\n",
      "\n",
      "n_files_different =  0\n"
     ]
    }
   ],
   "source": [
    "print(\"\\n----- <SEP> alignment tests to ensure there are the same number of <SEP>s in each file-----\\n\")\n",
    "\n",
    "for split in [\"train\", \"dev\", \"test\"]:  # \"train\", \"dev\", \"test\"\n",
    "    print(split)\n",
    "    fluent_text = utils_general.read_file(os.path.join(\".\", \"swb\", \"model_files\", split, \"fluent.txt\"))\n",
    "    disfluent_text = utils_general.read_file(os.path.join(\".\", \"swb\", \"model_files\", split, \"disfluent.txt\"))\n",
    "    \n",
    "    print(fluent_text.count(\"<SEP>\"))\n",
    "    print(disfluent_text.count(\"<SEP>\"))\n",
    "    print()\n",
    "\n",
    "    \n",
    "fluent_text = utils_general.read_file(os.path.join(\".\", \"swb\", \"model_files\", \"train\", \"fluent.txt\"))\n",
    "disfluent_text = utils_general.read_file(os.path.join(\".\", \"swb\", \"model_files\", \"train\", \"disfluent.txt\"))\n",
    "\n",
    "n_files_different = 0\n",
    "for line_fluent, line_disfluent in zip(fluent_text.split(\"\\n\"), disfluent_text.split(\"\\n\")):\n",
    "    if line_fluent.count(\"<SEP>\") != line_disfluent.count(\"<SEP>\"):\n",
    "        n_files_different += 1\n",
    "        print(line_fluent.count(\"<SEP>\"), \":\", line_fluent, \"\\n\\n\", line_disfluent.count(\"<SEP>\"), \":\", line_disfluent)\n",
    "        for diff in difflib.unified_diff(line_fluent.split(\".\"), line_disfluent.split(\".\")):\n",
    "            print(diff)\n",
    "print(\"n_files_different = \", n_files_different)"
   ]
  },
  {
   "cell_type": "code",
   "execution_count": null,
   "id": "076e08d6-5eb2-4909-812d-a93522e77eb5",
   "metadata": {},
   "outputs": [],
   "source": []
  }
 ],
 "metadata": {
  "kernelspec": {
   "display_name": "Python [conda env:23_6_19]",
   "language": "python",
   "name": "conda-env-23_6_19-py"
  },
  "language_info": {
   "codemirror_mode": {
    "name": "ipython",
    "version": 3
   },
   "file_extension": ".py",
   "mimetype": "text/x-python",
   "name": "python",
   "nbconvert_exporter": "python",
   "pygments_lexer": "ipython3",
   "version": "3.8.16"
  }
 },
 "nbformat": 4,
 "nbformat_minor": 5
}
