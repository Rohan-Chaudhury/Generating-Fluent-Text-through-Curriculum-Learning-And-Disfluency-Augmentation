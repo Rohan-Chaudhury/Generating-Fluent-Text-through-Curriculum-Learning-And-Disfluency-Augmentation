{
 "cells": [
  {
   "cell_type": "code",
   "execution_count": 1,
   "id": "8257955e-9c16-4de1-8024-abab1dfa3594",
   "metadata": {},
   "outputs": [],
   "source": [
    "import os\n",
    "import difflib\n",
    "\n",
    "import utils_trees\n",
    "import utils_general\n",
    "import utils_brown\n",
    "\n",
    "BROWN_PATH = \"/home/grads/m/mariateleki/disfluency/treebank_3/parsed/mrg/brown\""
   ]
  },
  {
   "cell_type": "code",
   "execution_count": 2,
   "id": "a264a8db-1de7-4e11-af6c-46759af9cdaf",
   "metadata": {},
   "outputs": [],
   "source": [
    "BROWN_FILES_LIST = []\n",
    "for root, dirs, files in os.walk(BROWN_PATH):\n",
    "    for file in files:\n",
    "        if not file.startswith(\".\") and \"-checkpoint\" not in file:\n",
    "            BROWN_FILES_LIST.append(os.path.join(root, file))  \n",
    "\n",
    "utils_brown.get_trees_and_trees_tagged_files(BROWN_FILES_LIST)\n",
    "utils_brown.get_fluent_and_disfluent_files()\n",
    "utils_brown.get_model_files()"
   ]
  },
  {
   "cell_type": "markdown",
   "id": "51c72848-ac37-499e-a49b-3bce86f378fc",
   "metadata": {},
   "source": [
    "# Reproducibility Check\n",
    "Makes sure that the output of these 3 files (selected randomly) is the same."
   ]
  },
  {
   "cell_type": "code",
   "execution_count": 3,
   "id": "45e97446-ea1a-4b3c-aaa4-ffd37f19b307",
   "metadata": {},
   "outputs": [
    {
     "name": "stdout",
     "output_type": "stream",
     "text": [
      "[]\n",
      "[]\n",
      "[]\n"
     ]
    }
   ],
   "source": [
    "random_file_1_path = os.path.join(\".\", \"brown/fluent/cf19.txt\")\n",
    "random_file_2_path = os.path.join(\".\", \"brown/fluent/cp18.txt\")\n",
    "random_file_3_path = os.path.join(\".\", \"brown/model_files/fluent.txt\")\n",
    "\n",
    "# reads the output of 3 files\n",
    "random_file_1 = utils_general.read_file(random_file_1_path)\n",
    "random_file_2 = utils_general.read_file(random_file_2_path)\n",
    "random_file_3 = utils_general.read_file(random_file_3_path)\n",
    "\n",
    "# re-runs the writing files out & transformations\n",
    "utils_brown.get_trees_and_trees_tagged_files(BROWN_FILES_LIST)\n",
    "utils_brown.get_fluent_and_disfluent_files()\n",
    "utils_brown.get_model_files()\n",
    "\n",
    "run2_random_file_1 = utils_general.read_file(random_file_1_path)\n",
    "run2_random_file_2 = utils_general.read_file(random_file_2_path)\n",
    "run2_random_file_3 = utils_general.read_file(random_file_3_path)\n",
    "\n",
    "# ensures that the new files are the same as the old files\n",
    "print(list(difflib.unified_diff(random_file_1.split(\" \"), run2_random_file_1.split(\" \"))))\n",
    "print(list(difflib.unified_diff(random_file_2.split(\" \"), run2_random_file_2.split(\" \"))))\n",
    "print(list(difflib.unified_diff(random_file_3.split(\" \"), run2_random_file_3.split(\" \"))))"
   ]
  },
  {
   "cell_type": "code",
   "execution_count": null,
   "id": "d2ede5af-2f06-4eb9-8f80-6f4452a216b3",
   "metadata": {},
   "outputs": [],
   "source": []
  }
 ],
 "metadata": {
  "kernelspec": {
   "display_name": "Python 3 (ipykernel)",
   "language": "python",
   "name": "python3"
  },
  "language_info": {
   "codemirror_mode": {
    "name": "ipython",
    "version": 3
   },
   "file_extension": ".py",
   "mimetype": "text/x-python",
   "name": "python",
   "nbconvert_exporter": "python",
   "pygments_lexer": "ipython3",
   "version": "3.9.13"
  }
 },
 "nbformat": 4,
 "nbformat_minor": 5
}
