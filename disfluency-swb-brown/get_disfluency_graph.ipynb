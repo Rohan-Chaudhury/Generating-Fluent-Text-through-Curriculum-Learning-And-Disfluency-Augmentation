{
 "cells": [
  {
   "cell_type": "code",
   "execution_count": 1,
   "id": "5af045e7-af79-47d6-8b0a-082cbdc338ef",
   "metadata": {},
   "outputs": [],
   "source": [
    "import os\n",
    "import tb\n",
    "import seaborn as sns\n",
    "import pandas as pd\n",
    "import matplotlib.style as style\n",
    "\n",
    "# set matplotlib style\n",
    "style.use(\"seaborn-v0_8-colorblind\")"
   ]
  },
  {
   "cell_type": "code",
   "execution_count": 2,
   "id": "db465482-4f6d-437b-bd99-1be99cea6d08",
   "metadata": {},
   "outputs": [
    {
     "name": "stdout",
     "output_type": "stream",
     "text": [
      "-----TESTS-----\n",
      "\n",
      "total number of swb files: 650\n"
     ]
    }
   ],
   "source": [
    "train_files = [os.path.join(\".\", \"train\", \"trees\", f) for f in os.listdir(os.path.join(\".\", \"train\", \"trees\")) if not f.startswith(\".\")]\n",
    "dev_files = [os.path.join(\".\", \"dev\", \"trees\", f) for f in os.listdir(os.path.join(\".\", \"dev\", \"trees\")) if not f.startswith(\".\")]\n",
    "test_files = [os.path.join(\".\", \"test\", \"trees\", f) for f in os.listdir(os.path.join(\".\", \"test\", \"trees\")) if not f.startswith(\".\")]\n",
    "\n",
    "all_files = train_files + dev_files + test_files\n",
    "\n",
    "print(\"-----TESTS-----\\n\")\n",
    "print(\"total number of swb files:\", len(all_files))"
   ]
  },
  {
   "cell_type": "code",
   "execution_count": 3,
   "id": "d1c4f8d2-04ff-40ad-8d7f-5b116bbbbd21",
   "metadata": {
    "tags": []
   },
   "outputs": [],
   "source": [
    "disfluency_dict = {\"INTJ\": 0,\n",
    "                   \"PRN\": 0,\n",
    "                   \"EDITED\": 0}\n",
    "\n",
    "# adapted from tb.py, yields leaf nodes without CODE, EDITED, INTJ, or PRN nodes\n",
    "def get_disfluency_counts(tree):\n",
    "    def visit(node):\n",
    "        if isinstance(node, list):\n",
    "            for child in node[1:]:\n",
    "                if \"EDITED\" in child:\n",
    "                    disfluency_dict[\"EDITED\"] += 1\n",
    "                elif \"INTJ\" in child:\n",
    "                    disfluency_dict[\"INTJ\"] += 1\n",
    "                elif \"PRN\" in child:\n",
    "                    disfluency_dict[\"PRN\"] += 1\n",
    "                elif \"CODE\" in child:\n",
    "                    continue\n",
    "                else:\n",
    "                    yield from visit(child)\n",
    "        else:\n",
    "            yield node\n",
    "    yield from visit(tree) "
   ]
  },
  {
   "cell_type": "code",
   "execution_count": 4,
   "id": "1e334b94-04ca-455a-bdcd-d772fa1c85e2",
   "metadata": {},
   "outputs": [
    {
     "name": "stdout",
     "output_type": "stream",
     "text": [
      "{'INTJ': 63116, 'PRN': 12140, 'EDITED': 25707}\n",
      "{'split': ['all', 'all', 'all'], 'dis': ['INTJ', 'PRN', 'EDITED'], 'number': [63116, 12140, 25707]}\n"
     ]
    }
   ],
   "source": [
    "disfluency_dict = {\"INTJ\": 0, \"PRN\": 0, \"EDITED\": 0}\n",
    "for f in all_files:\n",
    "    tb_file = tb.read_file(f)\n",
    "    _ = list(get_disfluency_counts(tb_file))\n",
    "print(disfluency_dict)\n",
    "\n",
    "df_dict = {\"split\":[], \"dis\":[], \"number\":[]}\n",
    "for k,v in disfluency_dict.items():\n",
    "    df_dict[\"split\"].append(\"all\")\n",
    "    df_dict[\"dis\"].append(k)\n",
    "    df_dict[\"number\"].append(v)\n",
    "print(df_dict)\n",
    "\n",
    "# df = pd.DataFrame(df_dict, index=df_dict.keys())\n",
    "# sns.barplot(df, x=\"dis\", y=\"number\", hue=\"split\")"
   ]
  },
  {
   "cell_type": "code",
   "execution_count": 5,
   "id": "0c6127d5-b379-4498-81f7-0aa631184040",
   "metadata": {},
   "outputs": [
    {
     "name": "stdout",
     "output_type": "stream",
     "text": [
      "{'INTJ': 51718, 'PRN': 9731, 'EDITED': 20304}\n",
      "{'split': ['all', 'all', 'all', 'train', 'train', 'train'], 'dis': ['INTJ', 'PRN', 'EDITED', 'INTJ', 'PRN', 'EDITED'], 'number': [63116, 12140, 25707, 51718, 9731, 20304]}\n"
     ]
    }
   ],
   "source": [
    "disfluency_dict = {\"INTJ\": 0, \"PRN\": 0, \"EDITED\": 0}\n",
    "for f in train_files:\n",
    "    tb_file = tb.read_file(f)\n",
    "    _ = list(get_disfluency_counts(tb_file))\n",
    "print(disfluency_dict)\n",
    "\n",
    "for k,v in disfluency_dict.items():\n",
    "    df_dict[\"split\"].append(\"train\")\n",
    "    df_dict[\"dis\"].append(k)\n",
    "    df_dict[\"number\"].append(v)\n",
    "print(df_dict)\n",
    "\n",
    "# df = pd.DataFrame(df_dict)\n",
    "# sns.barplot(df, x=\"dis\", y=\"number\", hue=\"split\")"
   ]
  },
  {
   "cell_type": "code",
   "execution_count": 6,
   "id": "60841a3d-0fd9-4792-a0ee-de4beca9e849",
   "metadata": {},
   "outputs": [
    {
     "name": "stdout",
     "output_type": "stream",
     "text": [
      "{'INTJ': 4816, 'PRN': 1040, 'EDITED': 2072}\n",
      "{'split': ['all', 'all', 'all', 'train', 'train', 'train', 'dev', 'dev', 'dev'], 'dis': ['INTJ', 'PRN', 'EDITED', 'INTJ', 'PRN', 'EDITED', 'INTJ', 'PRN', 'EDITED'], 'number': [63116, 12140, 25707, 51718, 9731, 20304, 4816, 1040, 2072]}\n"
     ]
    }
   ],
   "source": [
    "disfluency_dict = {\"INTJ\": 0, \"PRN\": 0, \"EDITED\": 0}\n",
    "for f in dev_files:\n",
    "    tb_file = tb.read_file(f)\n",
    "    _ = list(get_disfluency_counts(tb_file))\n",
    "print(disfluency_dict)\n",
    "\n",
    "for k,v in disfluency_dict.items():\n",
    "    df_dict[\"split\"].append(\"dev\")\n",
    "    df_dict[\"dis\"].append(k)\n",
    "    df_dict[\"number\"].append(v)\n",
    "print(df_dict)\n",
    "\n",
    "# df = pd.DataFrame(df_dict)\n",
    "# sns.barplot(df, x=\"dis\", y=\"number\", hue=\"split\")"
   ]
  },
  {
   "cell_type": "code",
   "execution_count": 7,
   "id": "792e954e-44f3-4062-9d8a-b7b6ac54d230",
   "metadata": {},
   "outputs": [
    {
     "name": "stdout",
     "output_type": "stream",
     "text": [
      "{'INTJ': 6582, 'PRN': 1369, 'EDITED': 3331}\n",
      "{'split': ['all', 'all', 'all', 'train', 'train', 'train', 'dev', 'dev', 'dev', 'test', 'test', 'test'], 'dis': ['INTJ', 'PRN', 'EDITED', 'INTJ', 'PRN', 'EDITED', 'INTJ', 'PRN', 'EDITED', 'INTJ', 'PRN', 'EDITED'], 'number': [63116, 12140, 25707, 51718, 9731, 20304, 4816, 1040, 2072, 6582, 1369, 3331]}\n"
     ]
    },
    {
     "data": {
      "text/plain": [
       "<Axes: xlabel='dis', ylabel='number'>"
      ]
     },
     "execution_count": 7,
     "metadata": {},
     "output_type": "execute_result"
    },
    {
     "data": {
      "image/png": "[encoded data removed]",
      "text/plain": [
       "<Figure size 640x480 with 1 Axes>"
      ]
     },
     "metadata": {},
     "output_type": "display_data"
    }
   ],
   "source": [
    "disfluency_dict = {\"INTJ\": 0, \"PRN\": 0, \"EDITED\": 0}\n",
    "for f in test_files:\n",
    "    tb_file = tb.read_file(f)\n",
    "    _ = list(get_disfluency_counts(tb_file))\n",
    "print(disfluency_dict)\n",
    "\n",
    "for k,v in disfluency_dict.items():\n",
    "    df_dict[\"split\"].append(\"test\")\n",
    "    df_dict[\"dis\"].append(k)\n",
    "    df_dict[\"number\"].append(v)\n",
    "print(df_dict)\n",
    "\n",
    "df = pd.DataFrame(df_dict)\n",
    "sns.barplot(df, x=\"dis\", y=\"number\", hue=\"split\")"
   ]
  },
  {
   "cell_type": "code",
   "execution_count": null,
   "id": "9a8bbcd5-e6de-43b7-bfb6-1a786be04b0b",
   "metadata": {},
   "outputs": [],
   "source": []
  }
 ],
 "metadata": {
  "kernelspec": {
   "display_name": "Python [conda env:23_6_19]",
   "language": "python",
   "name": "conda-env-23_6_19-py"
  },
  "language_info": {
   "codemirror_mode": {
    "name": "ipython",
    "version": 3
   },
   "file_extension": ".py",
   "mimetype": "text/x-python",
   "name": "python",
   "nbconvert_exporter": "python",
   "pygments_lexer": "ipython3",
   "version": "3.8.16"
  }
 },
 "nbformat": 4,
 "nbformat_minor": 5
}
